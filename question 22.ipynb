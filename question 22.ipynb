{
 "cells": [
  {
   "cell_type": "markdown",
   "id": "7f7e9c56",
   "metadata": {},
   "source": [
    "Question 22) Mid term"
   ]
  },
  {
   "cell_type": "code",
   "execution_count": 1,
   "id": "3d238e30",
   "metadata": {},
   "outputs": [
    {
     "name": "stdout",
     "output_type": "stream",
     "text": [
      "Rows where ThomasRanking is 1 or MyRanking is 1:\n",
      "[('Cake', 1, 1), ('Pie', 1, 5), ('Cake', 2, 1), ('Pie', 1, 5), ('Cake', 2, 1), ('Cake', 1, 1), ('Pie', 1, 5), ('Cake', 2, 1), ('Pie', 1, 1), ('Pie', 1, 1), ('Pie', 1, 1), ('Pie', 1, 1)]\n",
      "\n",
      "Rows ordered by my ranking:\n",
      "[('Cake', 1, 1), ('Cake', 2, 1), ('Cake', 2, 1), ('Cake', 1, 1), ('Cake', 2, 1), ('Pie', 1, 1), ('Pie', 1, 1), ('Pie', 1, 1), ('Pie', 1, 1), ('Brownie', 2, 2), ('Brownie', 3, 2), ('Brownie', 3, 2), ('Brownie', 2, 2), ('Brownie', 3, 2), ('Cake', 2, 2), ('Cake', 2, 2), ('Cake', 2, 2), ('Cake', 2, 2), ('Ice Cream', 3, 3), ('Ice Cream', 4, 3), ('Ice Cream', 4, 3), ('Ice Cream', 3, 3), ('Ice Cream', 4, 3), ('Brownie', 3, 3), ('Brownie', 3, 3), ('Brownie', 3, 3), ('Brownie', 3, 3), ('Cookies', 4, 4), ('Cookies', 5, 4), ('Cookies', 5, 4), ('Cookies', 4, 4), ('Cookies', 5, 4), ('Ice Cream', 4, 4), ('Ice Cream', 4, 4), ('Ice Cream', 4, 4), ('Ice Cream', 4, 4), ('Pie', 5, 5), ('Pie', 1, 5), ('Pie', 1, 5), ('Pie', 5, 5), ('Pie', 1, 5), ('Cookies', 5, 5), ('Cookies', 5, 5), ('Cookies', 5, 5), ('Cookies', 5, 5)]\n"
     ]
    }
   ],
   "source": [
    "import sqlite3\n",
    "\n",
    "# My dessert rankings\n",
    "my_rankings = {\n",
    "    \"Pie\": 1,\n",
    "    \"Cake\": 2,\n",
    "    \"Brownie\": 3,\n",
    "    \"Ice Cream\": 4,\n",
    "    \"Cookies\": 5\n",
    "}\n",
    "\n",
    "# Connect to SQLite database\n",
    "conn = sqlite3.connect('desserts.db')\n",
    "cur = conn.cursor()\n",
    "\n",
    "# Create table if not exists\n",
    "cur.execute('''CREATE TABLE IF NOT EXISTS Desserts (\n",
    "    DessertName TEXT,\n",
    "    ThomasRanking INTEGER,\n",
    "    MyRanking INTEGER\n",
    ")''')\n",
    "\n",
    "# Insert data into table\n",
    "for dessert, my_ranking in my_rankings.items():\n",
    "    thomas_ranking = my_rankings[dessert]\n",
    "    cur.execute('INSERT INTO Desserts VALUES (?, ?, ?)', (dessert, thomas_ranking, my_ranking))\n",
    "\n",
    "# Commit changes\n",
    "conn.commit()\n",
    "\n",
    "# Select query where ThomasRanking is 1 or MyRanking is 1\n",
    "cur.execute('SELECT * FROM Desserts WHERE ThomasRanking = 1 OR MyRanking = 1')\n",
    "print(\"Rows where ThomasRanking is 1 or MyRanking is 1:\")\n",
    "print(cur.fetchall())\n",
    "\n",
    "# Select query to order by my ranking\n",
    "cur.execute('SELECT * FROM Desserts ORDER BY MyRanking ASC')\n",
    "print(\"\\nRows ordered by my ranking:\")\n",
    "print(cur.fetchall())\n",
    "\n",
    "# Close connection\n",
    "conn.close()\n"
   ]
  },
  {
   "cell_type": "code",
   "execution_count": null,
   "id": "afee5991",
   "metadata": {},
   "outputs": [],
   "source": []
  },
  {
   "cell_type": "code",
   "execution_count": null,
   "id": "3c6a8c8b",
   "metadata": {},
   "outputs": [],
   "source": []
  }
 ],
 "metadata": {
  "kernelspec": {
   "display_name": "Python 3 (ipykernel)",
   "language": "python",
   "name": "python3"
  },
  "language_info": {
   "codemirror_mode": {
    "name": "ipython",
    "version": 3
   },
   "file_extension": ".py",
   "mimetype": "text/x-python",
   "name": "python",
   "nbconvert_exporter": "python",
   "pygments_lexer": "ipython3",
   "version": "3.11.5"
  }
 },
 "nbformat": 4,
 "nbformat_minor": 5
}
